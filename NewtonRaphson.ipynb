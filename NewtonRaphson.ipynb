{
 "cells": [
  {
   "cell_type": "markdown",
   "metadata": {},
   "source": [
    "# NEWTON RAPHSON METHOD \n"
   ]
  },
  {
   "cell_type": "markdown",
   "metadata": {},
   "source": [
    "## Written By: Ripesh Bista "
   ]
  },
  {
   "cell_type": "code",
   "execution_count": 1,
   "metadata": {},
   "outputs": [],
   "source": [
    "import sympy as sym\n",
    "from sympy import Function\n"
   ]
  },
  {
   "cell_type": "code",
   "execution_count": 24,
   "metadata": {},
   "outputs": [
    {
     "name": "stdout",
     "output_type": "stream",
     "text": [
      "Enter a equation: x**5-9999999\n",
      "Enter your initial guess: 0.00001\n",
      "Enter the accuracy in decimal place: 0.000000000000000000000000000001\n",
      "The solution is: \n",
      "25.118863812718494\n"
     ]
    }
   ],
   "source": [
    "x = sym.Symbol('x')\n",
    "function = input(\"Enter a equation: \")\n",
    "a = eval(function)\n",
    "b = sym.diff(function)\n",
    "n=0\n",
    "Xo = float(input(\"Enter your initial guess: \"))\n",
    "error = float(input(\"Enter the accuracy in decimal place: \"))\n",
    "Z=0.0\n",
    "while True:\n",
    "    a1=a\n",
    "    b1=b\n",
    "    e = error\n",
    "    X1 = float(Xo) - float((a1.subs(x,Xo))/b1.subs(x,Xo))\n",
    "    if n>=1:\n",
    "        if (X1-Z<e and X1-Z>0) or (X1-Z==0):\n",
    "            print(\"The solution is: \")\n",
    "            print(X1)\n",
    "            break\n",
    "        else:\n",
    "            Xo=X1\n",
    "    if n<1:\n",
    "        Xo = X1\n",
    "    Z=X1\n",
    "    n=n+1"
   ]
  },
  {
   "cell_type": "code",
   "execution_count": 7,
   "metadata": {},
   "outputs": [
    {
     "name": "stdout",
     "output_type": "stream",
     "text": [
      "Enter a function: x**2-1\n",
      "Enter your initial guess: 1\n",
      "1.0\n"
     ]
    }
   ],
   "source": [
    "'''\n",
    "x = sym.Symbol('x')\n",
    "function = input(\"Enter a function: \")\n",
    "a = eval(function)\n",
    "b = sym.diff(function)\n",
    "n=0\n",
    "Xo = float(input(\"Enter your initial guess: \"))\n",
    "X1 = float(Xo) - float((a.subs(x,Xo))/b.subs(x,Xo))\n",
    "print(X1)\n",
    "'''"
   ]
  },
  {
   "cell_type": "code",
   "execution_count": null,
   "metadata": {},
   "outputs": [],
   "source": []
  },
  {
   "cell_type": "code",
   "execution_count": null,
   "metadata": {},
   "outputs": [],
   "source": []
  },
  {
   "cell_type": "code",
   "execution_count": null,
   "metadata": {},
   "outputs": [],
   "source": []
  }
 ],
 "metadata": {
  "kernelspec": {
   "display_name": "Python 3",
   "language": "python",
   "name": "python3"
  },
  "language_info": {
   "codemirror_mode": {
    "name": "ipython",
    "version": 3
   },
   "file_extension": ".py",
   "mimetype": "text/x-python",
   "name": "python",
   "nbconvert_exporter": "python",
   "pygments_lexer": "ipython3",
   "version": "3.8.5"
  }
 },
 "nbformat": 4,
 "nbformat_minor": 4
}
